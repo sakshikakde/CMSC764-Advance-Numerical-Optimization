{
 "cells": [
  {
   "cell_type": "markdown",
   "source": [
    "Name:  **Sakshi Kakde**  \n",
    "UID:  **117472448**"
   ],
   "metadata": {}
  },
  {
   "cell_type": "markdown",
   "source": [
    "# Homework 6:  Gradient methods and Duality\n",
    "\n",
    "Put the file `utility.py` into your directory.  Then run the following cell."
   ],
   "metadata": {}
  },
  {
   "cell_type": "code",
   "execution_count": 1,
   "source": [
    "from utility import *\n",
    "import numpy as np\n",
    "from numpy import sqrt, sum, abs, max, maximum, logspace, exp, log, log10, zeros\n",
    "from numpy.linalg import norm\n",
    "from numpy.random import randn, rand, normal, randint\n",
    "import urllib\n",
    "import matplotlib.pyplot as plt\n",
    "np.random.seed(0)\n",
    "def good_job(path):\n",
    "    a = plt.imread(urllib.request.urlopen(path))\n",
    "    fig = plt.imshow(a)\n",
    "    fig.axes.get_xaxis().set_visible(False)\n",
    "    fig.axes.get_yaxis().set_visible(False)\n",
    "    plt.show()\n",
    "np.random.seed(0)"
   ],
   "outputs": [],
   "metadata": {}
  },
  {
   "cell_type": "markdown",
   "source": [
    "# Problem 1:  Gradient descent\n",
    "Write a function that estimates the Lipschitz constant of a function $g$.  This can be done using the formula\n",
    "$$L \\approx \\frac{\\|g(x) - g(y)\\|}{\\|x-y\\|}.$$\n",
    "The inputs should be a function $g:\\mathbb{R}^n \\to \\mathbb{R}^m,$ and an initial vector $x$ in the domain of $g$."
   ],
   "metadata": {}
  },
  {
   "cell_type": "code",
   "execution_count": 2,
   "source": [
    "def estimate_lipschitz(g, x):\n",
    "    dx = normal(size = x.shape)\n",
    "    y = x + dx\n",
    "    L = norm(g(y) - g(x)) / norm(dx)\n",
    "    return L"
   ],
   "outputs": [],
   "metadata": {}
  },
  {
   "cell_type": "markdown",
   "source": [
    "#### Now, run this unit test"
   ],
   "metadata": {}
  },
  {
   "cell_type": "code",
   "execution_count": 3,
   "source": [
    "g = lambda x: 10*x\n",
    "x = randn(3,4,5)\n",
    "L = estimate_lipschitz(g,x)\n",
    "assert abs(L-10)<1e-10, \"Your Lipschitz estimator is broken!\"\n",
    "print(\"Great - your Lipschitz estimator works!\")"
   ],
   "outputs": [
    {
     "output_type": "stream",
     "name": "stdout",
     "text": [
      "Great - your Lipschitz estimator works!\n"
     ]
    }
   ],
   "metadata": {}
  },
  {
   "cell_type": "markdown",
   "source": [
    "### Write a routine that minimizes a function using gradient descent.\n",
    "The inputs $f$ and $grad$ are function handles.  The function $f: \\mathbb{R}^N\\to \\mathbb{R}$ is an arbitrary objective function, and  $grad: \\mathbb{R}^N \\to \\mathbb{R}^N$ is its gradient.  The method should minimize $f$ using gradient descent, and terminate when the gradient of $f$ is small.  I suggest stopping when\n",
    " $$\\|\\nabla f(x^k)\\|<\\|\\nabla f(x^0)\\|*tol$$\n",
    " where $x^0$ is an initial guess and $tol$ is a small tolerance parameter (a typical value would be $10^{-4}$).  \n",
    " \n",
    "  Use a backtracking line search to guarantee convergence.   The stepsize should be monotonically decreasing.  Each iteration should begin by trying the stepsize that was used on the previous iteration, and then backtrack until the Armijo condition holds:\n",
    "  $$f(x^{k+1}) \\le f(x^k) + \\alpha \\langle x^{k+1} - x^k, \\nabla f(x^k)\\rangle,$$\n",
    "  where $\\alpha \\in (0,1),$ and $\\alpha=0.1$ is suggested.\n",
    "\n",
    "  The function returns the solution vector $x_{sol}$, and also a vector $res$ containing the norm of the residual (i.e., the norm of the gradient) at each iteration.\n",
    "\n",
    "This initial stepsize should be $10/L$, where $L$ is an estimate of the Lipschitz constant for the gradient."
   ],
   "metadata": {}
  },
  {
   "cell_type": "code",
   "execution_count": 4,
   "source": [
    "def grad_descent(f, grad, x0, max_iters=10000, tol=1e-4):\n",
    "    # Your work here\n",
    "    step_size = 10 / estimate_lipschitz(grad, x0)\n",
    "    alpha = 0.1\n",
    "    x = x0\n",
    "    res = []\n",
    "    res.append(norm(grad(x0)))\n",
    "    \n",
    "    for _ in range(max_iters):\n",
    "        xk = x\n",
    "        xk_plus_1 = xk - step_size * grad(xk)\n",
    "\n",
    "        armijo = f(xk_plus_1) - (f(xk) + alpha * (xk_plus_1 - xk).T * grad(xk))\n",
    "\n",
    "        while(np.any(armijo > 0)):\n",
    "            step_size *= 0.5\n",
    "            xk_plus_1 = xk - step_size * grad(xk) \n",
    "            armijo = f(xk_plus_1) - (f(xk) + alpha * (xk_plus_1 - xk).T * grad(xk))\n",
    "\n",
    "        x = xk_plus_1\n",
    "        res.append(norm(grad(x)))\n",
    "          \n",
    "        if(norm(grad(x)) < norm(grad(x0)) * tol):\n",
    "            break\n",
    "     \n",
    "    return x, res"
   ],
   "outputs": [],
   "metadata": {}
  },
  {
   "cell_type": "markdown",
   "source": [
    "### Now run this unit test.  It will use your routine to fit a logistic regression"
   ],
   "metadata": {}
  },
  {
   "cell_type": "code",
   "execution_count": 5,
   "source": [
    "# Define a classification problem\n",
    "X, y = create_classification_problem(100, 10, cond_number=10)\n",
    "# Define the logistic loss function, and its gradient\n",
    "f = lambda w: logreg_objective(w,X,y)\n",
    "grad = lambda w: logreg_objective_grad(w,X,y)\n",
    "# Pick the initial guess\n",
    "w0 = zeros((10,1))\n",
    "\n",
    "# Now, solve the minimization problem\n",
    "w, res = grad_descent(f,grad,w0)\n",
    "\n",
    "# Check the solution\n",
    "assert res[-1]/res[0]<1e-4, \"ERROR:  your gradient descent routine did not the minimize the function\"\n",
    "print(\"Solver terminated in %d steps\"%len(res))\n",
    "print(\"Terrific!  Your routine works!\")\n",
    "\n",
    "_, res_g = grad_descent(f,grad,w0)\n",
    "n_g = list(range(len(res_g)))\n",
    "plt.semilogy(n_g,res_g)\n",
    "plt.legend(('gradient',))\n",
    "plt.xlabel('iteration')\n",
    "plt.ylabel('residual')\n",
    "plt.show()"
   ],
   "outputs": [
    {
     "output_type": "stream",
     "name": "stdout",
     "text": [
      "Solver terminated in 245 steps\n",
      "Terrific!  Your routine works!\n"
     ]
    },
    {
     "output_type": "display_data",
     "data": {
      "image/png": "[encoded data removed]",
      "text/plain": [
       "<Figure size 432x288 with 1 Axes>"
      ]
     },
     "metadata": {
      "needs_background": "light"
     }
    }
   ],
   "metadata": {}
  },
  {
   "cell_type": "markdown",
   "source": [
    "### Now, implement a gradient solver that begins each iterations using a Barzilai-Borwein stepsize \n",
    "  $$\\tau = \\frac{\\langle x^{k+1} - x^k ,x^{k+1} - x^k   \\rangle}{\\langle x^{k+1} - x^k ,\\nabla f(x^{k+1}) - \\nabla f(x^k)   \\rangle}.$$\n",
    "  Your routine should perform only 1 gradient computation per iteration (i.e., your method should not require any \"extra\" work).\n",
    "\n"
   ],
   "metadata": {}
  },
  {
   "cell_type": "code",
   "execution_count": 6,
   "source": [
    "def grad_descent_bb(f, grad, x0, max_iters=10000, tol=1e-4):\n",
    "    # Your work here!\n",
    "    step_size = 10 / estimate_lipschitz(grad, x0)\n",
    "    alpha = 0.1\n",
    "    g0 = grad(x0)\n",
    "    x = x0\n",
    "    g = g0\n",
    "\n",
    "    res = []\n",
    "    res.append(norm(g))\n",
    "\n",
    "    for _ in range(max_iters):\n",
    "        xk = x \n",
    "        gk = g\n",
    "        while(np.any(f(xk - step_size * gk) >= f(xk) + step_size * alpha * np.vdot(-gk, gk))):\n",
    "            step_size /= 2 \n",
    "\n",
    "        x = xk - step_size * gk\n",
    "        g = grad(x)\n",
    "        res.append(norm(g))\n",
    "\n",
    "        if(norm(g) < norm(g0) * tol):\n",
    "            break\n",
    "\n",
    "        step_size = np.vdot(x - xk, x - xk) / np.vdot(x - xk, g - gk)\n",
    "    \n",
    "    return x, res\n"
   ],
   "outputs": [],
   "metadata": {}
  },
  {
   "cell_type": "markdown",
   "source": [
    "### Now run this unit test"
   ],
   "metadata": {}
  },
  {
   "cell_type": "code",
   "execution_count": 7,
   "source": [
    "# Minimize that logistic loss again\n",
    "f = lambda w: logreg_objective(w,X,y)\n",
    "grad = lambda w: logreg_objective_grad(w,X,y)\n",
    "\n",
    "w, res = grad_descent_bb(f,grad,w0)\n",
    "assert res[-1]/res[0]<1e-4, \"ERROR:  Your BB routine did not the minimize the function\"\n",
    "print(\"Solver terminated in %d steps\"%len(res))\n",
    "print(\"Terrific!  Your BB routine works!\")\n",
    "\n",
    "_, res_g = grad_descent(f,grad,w0)\n",
    "_, res_b = grad_descent_bb(f,grad,w0)\n",
    "n_g = list(range(len(res_g)))\n",
    "n_b = list(range(len(res_b)))\n",
    "\n",
    "plt.semilogy(n_g,res_g,n_b,res_b)\n",
    "plt.legend(('gradient','bb'))\n",
    "plt.xlabel('iteration')\n",
    "plt.ylabel('residual')\n",
    "plt.show()"
   ],
   "outputs": [
    {
     "output_type": "stream",
     "name": "stdout",
     "text": [
      "Solver terminated in 42 steps\n",
      "Terrific!  Your BB routine works!\n"
     ]
    },
    {
     "output_type": "display_data",
     "data": {
      "image/png": "[encoded data removed]",
      "text/plain": [
       "<Figure size 432x288 with 1 Axes>"
      ]
     },
     "metadata": {
      "needs_background": "light"
     }
    }
   ],
   "metadata": {}
  },
  {
   "cell_type": "markdown",
   "source": [
    "### Write a routine that uses Nesterov's accelerated gradient method\n",
    "$$ x^{k} = y^k - \\tau \\nabla f(y^k) $$ \n",
    "$$ \\delta^{k+1} = \\frac{1+\\sqrt{1+4(\\delta^k)^2}}{2} $$\n",
    "$$ y^{k+1} = x^{k}+\\frac{\\delta^k-1}{\\delta^{k+1}}(x^k-x^{k-1}) $$\n",
    "\n",
    "The stepsize restriction for Nesterov's methods is $\\tau<1/L,$ however when $L$ is not known exactly you can use the line search condition\n",
    " $$f(x^k) \\le f(y^{k}) + \\alpha (x^k-y^k)^T\\nabla f(y^k), $$\n",
    " where $\\alpha \\in [1/2,1).$  I suggest choosing $\\alpha=1/2.$"
   ],
   "metadata": {}
  },
  {
   "cell_type": "code",
   "execution_count": 8,
   "source": [
    "def grad_descent_nesterov(f, grad, x0, max_iters=10000, tol=1e-4):\n",
    "    # Your work here!\n",
    "    delta_k = 1\n",
    "    step_size = 1 / estimate_lipschitz(grad, x0)\n",
    "    \n",
    "    xk = x0\n",
    "    y = x0\n",
    "    g0 = grad(x0)\n",
    "\n",
    "    for _ in range(max_iters):\n",
    "        x = y - step_size * grad(y)\n",
    "        delta = (1 + np.sqrt(1 + 4 * np.power(delta_k, 2))) / 2\n",
    "        y = x + ((delta_k - 1) / delta) * (x - xk)\n",
    "        xk = x\n",
    "        if(norm(grad(x)) < norm(g0)):\n",
    "            break\n",
    "\n",
    "    return x, res"
   ],
   "outputs": [],
   "metadata": {}
  },
  {
   "cell_type": "markdown",
   "source": [
    "### Now run this unit test"
   ],
   "metadata": {}
  },
  {
   "cell_type": "code",
   "execution_count": 9,
   "source": [
    "# Minimize the logistic loss using Nesterov's method\n",
    "f = lambda w: logreg_objective(w,X,y)\n",
    "grad = lambda w: logreg_objective_grad(w,X,y)\n",
    "\n",
    "w, res = grad_descent_nesterov(f,grad,w0)\n",
    "assert res[-1]/res[0]<1e-4, \"ERROR:  Your Nesterov routine did not the minimize the function\"\n",
    "print(\"Solver terminated in %d steps\"%len(res))\n",
    "print(\"Terrific!  Your Nesterov routine works!\")\n",
    "\n",
    "_, res_g = grad_descent(f,grad,w0)\n",
    "_, res_b = grad_descent_bb(f,grad,w0)\n",
    "_, res_n = grad_descent_nesterov(f,grad,w0)\n",
    "n_g = list(range(len(res_g)))\n",
    "n_b = list(range(len(res_b)))\n",
    "n_n = list(range(len(res_n)))\n",
    "\n",
    "plt.semilogy(n_g,res_g,n_b,res_b,n_n,res_n)\n",
    "plt.legend(('gradient','bb','nesterov'))\n",
    "plt.xlabel('iteration')\n",
    "plt.ylabel('residual')\n",
    "plt.show()"
   ],
   "outputs": [
    {
     "output_type": "stream",
     "name": "stdout",
     "text": [
      "Solver terminated in 42 steps\n",
      "Terrific!  Your Nesterov routine works!\n"
     ]
    },
    {
     "output_type": "display_data",
     "data": {
      "image/png": "[encoded data removed]",
      "text/plain": [
       "<Figure size 432x288 with 1 Axes>"
      ]
     },
     "metadata": {
      "needs_background": "light"
     }
    }
   ],
   "metadata": {}
  },
  {
   "cell_type": "markdown",
   "source": [
    "# Problem 2:  Image denoising\n",
    "Consider this noisy test image."
   ],
   "metadata": {}
  },
  {
   "cell_type": "code",
   "execution_count": 10,
   "source": [
    "# Don't modify this block\n",
    "image = zeros((50,50))\n",
    "image[15:35,15:35]=1\n",
    "image = image+0.1*randn(50,50)\n",
    "print('Here is a noisy image...')\n",
    "plt.imshow(image)\n",
    "plt.show()"
   ],
   "outputs": [
    {
     "output_type": "stream",
     "name": "stdout",
     "text": [
      "Here is a noisy image...\n"
     ]
    },
    {
     "output_type": "display_data",
     "data": {
      "image/png": "[encoded data removed]",
      "text/plain": [
       "<Figure size 432x288 with 1 Axes>"
      ]
     },
     "metadata": {
      "needs_background": "light"
     }
    }
   ],
   "metadata": {}
  },
  {
   "cell_type": "markdown",
   "source": [
    "#### Here's the TV loss function from a previous homework..."
   ],
   "metadata": {}
  },
  {
   "cell_type": "code",
   "execution_count": 11,
   "source": [
    "# Don't modify this block\n",
    "mu = .1\n",
    "def h(z, eps=.01):\n",
    "    \"\"\"The hyperbolic approximation to L1\"\"\"\n",
    "    return sum(sqrt(z*z+eps*eps).ravel())\n",
    "def tv_denoise_objective(x,mu,b):\n",
    "    return mu*h(grad2d(x)) + 0.5*norm(x-b)**2\n",
    "def h_grad(z, eps=.01):\n",
    "    \"\"\"The gradient of h\"\"\"\n",
    "    return z/sqrt(z*z+eps*eps)\n",
    "def tv_denoise_grad(x,mu,b):\n",
    "    \"\"\"The gradient of the TV objective\"\"\"\n",
    "    return mu*divergence2d(h_grad(grad2d(x))) + x-b"
   ],
   "outputs": [],
   "metadata": {}
  },
  {
   "cell_type": "markdown",
   "source": [
    "### Use your BB solver to minimize the TV objective, and denoise the test image."
   ],
   "metadata": {}
  },
  {
   "cell_type": "code",
   "execution_count": 12,
   "source": [
    "# Your work here!\n",
    "f = lambda w: tv_denoise_objective(w, mu, image)\n",
    "grad = lambda w: tv_denoise_grad(w, mu, image)\n",
    "x0 = np.zeros_like(image)\n",
    "x, res = grad_descent_bb(f, grad, x0)\n",
    "\n",
    "# Don't modify the three lines below\n",
    "print(\"Here's the denoised image...\")\n",
    "plt.imshow(x)\n",
    "plt.show()\n"
   ],
   "outputs": [
    {
     "output_type": "stream",
     "name": "stdout",
     "text": [
      "Here's the denoised image...\n"
     ]
    },
    {
     "output_type": "display_data",
     "data": {
      "image/png": "[encoded data removed]",
      "text/plain": [
       "<Figure size 432x288 with 1 Axes>"
      ]
     },
     "metadata": {
      "needs_background": "light"
     }
    }
   ],
   "metadata": {}
  },
  {
   "cell_type": "markdown",
   "source": [
    "# Problem 3:  The dual\n",
    "Consider the \"monotropic\" program\n",
    "$$\\begin{align}\n",
    "\\text{minimize} & \\quad  \\|x\\|_\\infty \\\\\n",
    "\\text{subject to} & \\quad Ax=b \n",
    "\\end{align}$$\n",
    "\n",
    "Write this as an unconstrained (or implicitly constrained) problem using the characteristic function of the zero vector $\\chi_0(z) .$  This function is zero if it's argument is zero, and infinite otherwise.\n",
    "\n"
   ],
   "metadata": {}
  },
  {
   "cell_type": "markdown",
   "source": [
    "Your answer here...\n",
    "$$\\begin{align}\n",
    "\\text{minimize} & \\quad  \\|x\\|_\\infty + \\chi_0(Ax - b)\n",
    "\\end{align}$$\n"
   ],
   "metadata": {}
  },
  {
   "cell_type": "markdown",
   "source": [
    "#### What is the conjugate of $f(z)= \\|z\\|_\\infty$?"
   ],
   "metadata": {}
  },
  {
   "cell_type": "markdown",
   "source": [
    "Your answer here...\n",
    " $$f^*(z)=  \\chi_1(z) $$\n",
    " $\\chi_1(z)$ is 0 if $||z||_1 \\le 1$, else $\\infty$ \n"
   ],
   "metadata": {}
  },
  {
   "cell_type": "markdown",
   "source": [
    "#### What is the conjugate of $g(z)=\\chi_0(z)$?"
   ],
   "metadata": {}
  },
  {
   "cell_type": "markdown",
   "source": [
    "Your answer here...\n",
    " $$f^*(z)=  max_x z^Tx - \\chi_0(x) $$\n",
    "$\\chi_0(x)$ is the number of non zero elements in $x$. The max is achieved when $x = 0$. Therefore,   \n",
    "$$f^*(z) = 0$$\n"
   ],
   "metadata": {}
  },
  {
   "cell_type": "markdown",
   "source": [
    "#### Using the conjugate functions, write down the dual of the monotropic problem."
   ],
   "metadata": {}
  },
  {
   "cell_type": "markdown",
   "source": [
    "Your answer here...\n",
    "Let $f(x) = \\quad  \\|x\\|_\\infty$. Therefore, the conjugate will be $f^*(z)=  \\chi_1(z)$ where $\\chi_1(z)$ is 0 if $||z||_1 \\le 1$, else $\\infty$ .\n",
    "\n",
    "$$ min_x \\quad  \\|x\\|_\\infty + <\\lambda, Ax - b> $$\n",
    "\n",
    "$$ = min_x \\quad  \\|x\\|_\\infty + \\lambda^T Ax - \\lambda^Tb $$\n",
    "\n",
    "$$ = -\\lambda^Tb - max_x (-\\quad  \\|x\\|_\\infty - \\lambda^T Ax) $$\n",
    "\n",
    "$$ = -\\lambda^Tb - max_x ((-\\lambda^T A)x -\\quad  \\|x\\|_\\infty) $$\n",
    "\n",
    "$$ = -\\lambda^Tb - max_x ((-\\lambda^T A)x -\\quad  \\|x\\|_\\infty) $$\n",
    "\n",
    "$$ = -\\lambda^Tb - f^*(-\\lambda^T A)$$\n",
    "\n",
    "$$ = -\\lambda^Tb - \\chi_1(-\\lambda^T A)$$\n",
    "\n"
   ],
   "metadata": {}
  },
  {
   "cell_type": "markdown",
   "source": [
    "# Problem 4:  Linear programming\n",
    "Consider the linear program\n",
    "$$ \\begin{align*}\n",
    "\\text{minimize} \\quad &  c^T x \\\\\n",
    "\\text{subject to} \\quad & Ax=b\\\\\n",
    " & x\\ge 0.\n",
    "\\end{align*} $$\n",
    "\n",
    "#### Write the Lagrangian for this problem. "
   ],
   "metadata": {}
  },
  {
   "cell_type": "markdown",
   "source": [
    "Your answer here...\n",
    "$$ L(x, \\lambda, \\nu) = c^T x + <\\lambda, Ax - b> + <\\nu, -x>\n"
   ],
   "metadata": {}
  },
  {
   "cell_type": "markdown",
   "source": [
    "#### Write the optimality conditions for this problem (i.e., the KKT system).  "
   ],
   "metadata": {}
  },
  {
   "cell_type": "markdown",
   "source": [
    "Your answer here...\n",
    "1) Primal/dual optimality:      \n",
    " $ c + A^T\\lambda - \\nu = 0 $\n",
    "\n",
    "2) Primal Feasibility:       \n",
    "$-x^* \\le 0$          \n",
    "$Ax^* - b = 0$  \n",
    "\n",
    "3) Dual feasibility:     \n",
    "$\\nu \\ge 0$ \n",
    "\n",
    "4) Complimentary Slackness:     \n",
    "$-\\nu x^* = 0$"
   ],
   "metadata": {}
  },
  {
   "cell_type": "markdown",
   "source": [
    "#### Minimize out the primal variables in the Lagrangian, and write the dual formulation of this linear program."
   ],
   "metadata": {}
  },
  {
   "cell_type": "markdown",
   "source": [
    "Your answer here...\n",
    "$$ d(\\lambda, \\nu) = min_x (c^T x + <\\lambda, Ax - b> + <\\nu, -x>) $$\n",
    "\n",
    "$$ d(\\lambda, \\nu) = min_x ((c^T + \\lambda^TA - \\nu^T)x - \\lambda^Tb) $$\n",
    "\n",
    "By Primal/dual optimality condition, $c^T + \\lambda^TA - \\nu^T = 0$. Therefore, \n",
    "\n",
    "$$ d(\\lambda, \\nu) = - \\lambda^Tb $$\n"
   ],
   "metadata": {}
  },
  {
   "cell_type": "markdown",
   "source": [],
   "metadata": {}
  }
 ],
 "metadata": {
  "kernelspec": {
   "name": "python3",
   "display_name": "Python 3.6.9 64-bit"
  },
  "language_info": {
   "codemirror_mode": {
    "name": "ipython",
    "version": 3
   },
   "file_extension": ".py",
   "mimetype": "text/x-python",
   "name": "python",
   "nbconvert_exporter": "python",
   "pygments_lexer": "ipython3",
   "version": "3.6.9"
  },
  "interpreter": {
   "hash": "31f2aee4e71d21fbe5cf8b01ff0e069b9275f58929596ceb00d14d90e3e16cd6"
  }
 },
 "nbformat": 4,
 "nbformat_minor": 2
}